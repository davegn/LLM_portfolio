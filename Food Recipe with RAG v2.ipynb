{
 "cells": [
  {
   "cell_type": "markdown",
   "id": "eefbf121-1988-4c10-8683-aea9c3572d63",
   "metadata": {},
   "source": [
    "# Food Recipe with RAG"
   ]
  },
  {
   "cell_type": "code",
   "execution_count": 3,
   "id": "c1a2da6e-51b2-40ec-bd19-13be61ec9397",
   "metadata": {
    "scrolled": true
   },
   "outputs": [],
   "source": [
    "# !pip install openai gradio\n",
    "# !pip install diffusers transformers accelerate\n",
    "# !pip install datasets\n",
    "# !pip install soundfile\n",
    "# !pip install hf_xet\n",
    "# !pip install sentencepiece\n",
    "# !pip install \"transformers[sentencepiece]\"\n",
    "# !pip install --upgrade protobuf\n",
    "# !pip install tf-keras\n",
    "# !pip install requests torch bitsandbytes transformers sentencepiece accelerate\n",
    "# !pip install langchain\n",
    "# !pip install langchain-community\n",
    "# !pip install langchain_openai langchain_chroma\n",
    "# !pip install plotly\n",
    "# !pip install langchain-huggingface\n",
    "# !pip install --upgrade 'optree>=0.13.0'\n",
    "# !pip install peft\n",
    "# !pip uninstall embeddingstore --y"
   ]
  },
  {
   "cell_type": "code",
   "execution_count": 4,
   "id": "49ecba51-015e-493c-94f6-389a121818f7",
   "metadata": {},
   "outputs": [],
   "source": [
    "import os\n",
    "import shutil\n",
    "\n",
    "from langchain.schema.document import Document\n",
    "from langchain.vectorstores.chroma import Chroma\n",
    "from langchain_community.document_loaders import DirectoryLoader,TextLoader\n",
    "from langchain.text_splitter import RecursiveCharacterTextSplitter\n",
    "from langchain_openai import OpenAIEmbeddings\n",
    "from langchain.memory import ConversationBufferMemory\n",
    "from langchain.chains import ConversationalRetrievalChain\n",
    "from langchain_openai import ChatOpenAI, OpenAI\n",
    "from langchain.prompts import PromptTemplate\n",
    "\n",
    "from dotenv import load_dotenv\n",
    "\n",
    "from IPython.display import Markdown\n",
    "\n",
    "home_dir = os.path.expanduser(\"~\")"
   ]
  },
  {
   "cell_type": "code",
   "execution_count": 5,
   "id": "36595835-64bd-4b95-a1a1-febf390eab31",
   "metadata": {},
   "outputs": [],
   "source": [
    "embeddings_model = 'text-embedding-nomic-embed-text-v1.5'\n",
    "embeddings_base_url=\"http://127.0.0.1:1234/v1\"\n",
    "embeddings_api_key = 'None'\n",
    "\n",
    "model = \"mistral-nemo-instruct-2407\" \n",
    "#\"llama-3.2-3b-instruct\"\n",
    "model_base_url=\"http://127.0.0.1:1234/v1\"\n",
    "model_api_key='None'\n",
    "\n",
    "chroma_path = f\"{home_dir}/Google Drive/My Drive/Projects/Data/chroma_Recipes\"\n",
    "\n",
    "system_prompt = \"\"\"\n",
    "Use the only following pieces of context to answer the question at the end. \n",
    "If you don't know the answer, \n",
    "just say that you don't know \n",
    "and don't provide any comments, \n",
    "don't try to make up an answer.\n",
    "\"\"\""
   ]
  },
  {
   "cell_type": "code",
   "execution_count": 6,
   "id": "be0e3ead-6ca1-4a2e-9afb-cb378fd3f00f",
   "metadata": {},
   "outputs": [
    {
     "name": "stderr",
     "output_type": "stream",
     "text": [
      "/var/folders/m4/vdkc_n0j0p906lm8_ckqwppr0000gn/T/ipykernel_30626/3416202858.py:6: LangChainDeprecationWarning: The class `Chroma` was deprecated in LangChain 0.2.9 and will be removed in 1.0. An updated version of the class exists in the :class:`~langchain-chroma package and should be used instead. To use it run `pip install -U :class:`~langchain-chroma` and import as `from :class:`~langchain_chroma import Chroma``.\n",
      "  db = Chroma(persist_directory=chroma_path,\n"
     ]
    }
   ],
   "source": [
    "embeddings = OpenAIEmbeddings(model = embeddings_model,\n",
    "                                 base_url=embeddings_base_url,\n",
    "                                 api_key=embeddings_api_key,\n",
    "                                 check_embedding_ctx_length=False)\n",
    "\n",
    "db = Chroma(persist_directory=chroma_path, \n",
    "            embedding_function=embeddings)\n"
   ]
  },
  {
   "cell_type": "code",
   "execution_count": 7,
   "id": "62b3f644-d6c5-4450-a286-851f4456da1b",
   "metadata": {},
   "outputs": [
    {
     "name": "stderr",
     "output_type": "stream",
     "text": [
      "/var/folders/m4/vdkc_n0j0p906lm8_ckqwppr0000gn/T/ipykernel_30626/322406530.py:10: LangChainDeprecationWarning: Please see the migration guide at: https://python.langchain.com/docs/versions/migrating_memory/\n",
      "  memory = ConversationBufferMemory(memory_key='chat_history',return_messages=True)\n"
     ]
    }
   ],
   "source": [
    "llm = OpenAI(\n",
    "    model=model,\n",
    "    api_key= model_api_key,\n",
    "    base_url=model_base_url,\n",
    "    temperature=0.1,\n",
    "    max_tokens=8000\n",
    ")\n",
    "\n",
    "retriever = db.as_retriever(search_kwargs={\"k\": 25})\n",
    "memory = ConversationBufferMemory(memory_key='chat_history',return_messages=True)\n",
    "conversation_chain = ConversationalRetrievalChain.from_llm(llm=llm,\n",
    "                                                              retriever=retriever,\n",
    "                                                              memory=memory)"
   ]
  },
  {
   "cell_type": "code",
   "execution_count": 8,
   "id": "ea8ca751-7e53-46d6-ac93-ff35f3019d97",
   "metadata": {
    "scrolled": true
   },
   "outputs": [
    {
     "data": {
      "text/markdown": [
       "Here's a diverse list of chicken recipes from various cuisines to inspire your cooking:\n",
       "\n",
       "1. **Italian:**\n",
       "\t* Chicken Parmesan (Chicken Parmigiana)\n",
       "\t* Chicken Cacciatore\n",
       "\t* Chicken Marsala\n",
       "\t* Chicken Piccata\n",
       "2. **French:**\n",
       "\t* Coq au Vin\n",
       "\t* Poulet Basquaise\n",
       "\t* Chicken Cordon Bleu\n",
       "3. **Spanish:**\n",
       "\t* Pollo al Chilindrón\n",
       "\t* Chicken Paella\n",
       "4. **Mexican:**\n",
       "\t* Pollo con Crema y Chipotle (Creamy Chicken with Chipotle)\n",
       "\t* Pollo con Salsa Verde (Chicken with Green Sauce)\n",
       "5. **Indian:**\n",
       "\t* Butter Chicken\n",
       "\t* Chicken Tikka Masala\n",
       "\t* Chicken Biryani\n",
       "6. **Chinese:**\n",
       "\t* Kung Pao Chicken\n",
       "\t* Cashew Chicken\n",
       "\t* Honey Chicken\n",
       "7. **Japanese:**\n",
       "\t* Teriyaki Chicken\n",
       "\t* Chicken Katsu (Chicken Cutlet)\n",
       "\t* Chicken Nanban (Southern-style Fried Chicken)\n",
       "8. **Korean:**\n",
       "\t* Dak Bulgogi (Marinated Grilled Chicken)\n",
       "\t* Fried Chicken (Dak Gangjeong)\n",
       "9. **Thai:**\n",
       "\t* Gaeng Keow Wan Gai (Green Curry Chicken)\n",
       "\t* Pad Kra Pao Gai (Stir-fried Chicken with Holy Basil)\n",
       "10. **Greek:**\n",
       "\t* Lemon Herb Roasted Chicken\n",
       "\t* Chicken Souvlaki\n",
       "11. **Moroccan:**\n",
       "\t* Chicken Tagine with Olives and Lemon\n",
       "\t* Spicy Chicken Tajine\n",
       "12. **Jamaican:**\n",
       "\t* Jerk Chicken\n",
       "13. **American:**\n",
       "\t* Fried Chicken (Southern-style)\n",
       "\t* BBQ Chicken\n",
       "\t* Buffalo Chicken Wings\n",
       "14. **Middle Eastern:**\n",
       "\t* Chicken Shawarma\n",
       "\t* Chicken Fattoush (Lebanese-style)\n",
       "15. **Ethiopian:**\n",
       "\t* Doro Wat (Spicy Chicken Stew)\n",
       "\n",
       "This list offers a variety of flavors and cooking methods, allowing you to explore different culinary traditions while enjoying delicious chicken dishes. Happy cooking!"
      ],
      "text/plain": [
       "<IPython.core.display.Markdown object>"
      ]
     },
     "execution_count": 8,
     "metadata": {},
     "output_type": "execute_result"
    }
   ],
   "source": [
    "query = \"can i have a list of chicken recipes?\"\n",
    "# result = conversation_chain.invoke({\"question\":system_prompt + query})\n",
    "result = conversation_chain.invoke({\"question\": query})\n",
    "Markdown(result[\"answer\"])"
   ]
  },
  {
   "cell_type": "code",
   "execution_count": 15,
   "id": "ba932be0-32a8-4269-bbe1-6ecd9972f5e7",
   "metadata": {
    "scrolled": true
   },
   "outputs": [
    {
     "data": {
      "text/markdown": [
       "Here's a list of chefs and their respective videos featuring Japanese chicken recipes:\n",
       "\n",
       "1. **Champ's Japanese Kitchen**\n",
       "\t* Chicken Karaage (Japanese Fried Chicken) - [https://youtu.be/_FAyrvfQJi0](https://youtu.be/_FAyrvfQJi0)\n",
       "\t* Healthy Pan-Fried Tonkatsu - [https://youtu.be/J-9rNhu50FI](https://youtu.be/J-9rNhu50FI)\n",
       "\t* Pork Shogayaki (Pork Ginger) - [https://youtu.be/AttRlfppjOY](https://youtu.be/AttRlfppjOY)\n",
       "\t* Katsu-Don (Pork Cutlet Rice Bowl) - [https://youtu.be/kV4Aw6MpoSU](https://youtu.be/kV4Aw6MpoSU)\n",
       "\t* Omurice (Japanese Omelet Rice) - [https://youtu.be/9x_bnZBilSM](https://youtu.be/9x_bnZBilSM)\n",
       "2. **Chef Japanese Kitchen**\n",
       "\t* Chicken Nanban (Japanese Fried Chicken with Tartar Sauce) - [https://youtu.be/3l9gwcSowFQ](https://youtu.be/3l9gwcSowFQ)\n",
       "\t* Sauce Katsudon (Pork Cutlet Rice Bowl with Sauce) - [https://youtu.be/76-FgRQ-axg](https://youtu.be/76-FgRQ-axg)\n",
       "3. **CHAMP's Japanese Kitchen**\n",
       "\t* Gyoza (Japanese Dumplings) - [https://youtu.be/Fejas73CUiY](https://youtu.be/Fejas73CUiY)\n",
       "4. **Jasuan's Cookbook**\n",
       "\t* Crispy Japanese Pan-Fried Dumplings (Gyoza) - [https://youtu.be/5-yt7tFpHPY](https://youtu.be/5-yt7tFpHPY)\n",
       "5. **Chef's Japanese Kitchen**\n",
       "\t* Hiroshima-Style Okonomiyaki (Japanese Savory Pancake) - [https://youtu.be/zy1nkcNpAOI](https://youtu.be/zy1nkcNpAOI)\n",
       "6. **Japanese Kitchen**\n",
       "\t* Chicken Teriyaki (Healthier Version) - [https://youtu.be/8965VZ1Qj4Y](https://youtu.be/8965VZ1Qj4Y)\n",
       "7. **[Name Not Provided]**\n",
       "\t* Chicken Teriyaki (Traditional Version) - [https://youtu.be/8965VZ1Qj4Y](https://youtu.be/8965VZ1Qj4Y)"
      ],
      "text/plain": [
       "<IPython.core.display.Markdown object>"
      ]
     },
     "execution_count": 15,
     "metadata": {},
     "output_type": "execute_result"
    }
   ],
   "source": [
    "query = \"can i have a list cooks for japanese chicken recipe?\"\n",
    "result = conversation_chain.invoke({\"question\": query})\n",
    "Markdown(result[\"answer\"])"
   ]
  },
  {
   "cell_type": "code",
   "execution_count": 17,
   "id": "e4137f47-a1b3-48c5-aaac-297ac8b639ef",
   "metadata": {
    "scrolled": true
   },
   "outputs": [
    {
     "data": {
      "text/markdown": [
       "\"Absolutely, I'd be happy to guide you through making Chicken Nanban! Here's a simplified version of the recipe:\n",
       "\n",
       "**Ingredients:**\n",
       "\n",
       "*   **For the Chicken:**\n",
       "    *   2 boneless, skinless chicken breasts\n",
       "    *   1 egg\n",
       "    *   4 tablespoons all-purpose flour\n",
       "    *   Salt and pepper to taste\n",
       "    *   Vegetable oil for frying\n",
       "*   **For the Tartar Sauce:**\n",
       "    *   1 hard-boiled egg, finely chopped\n",
       "    *   2 tablespoons mayonnaise\n",
       "    *   1 tablespoon Dijon mustard\n",
       "    *   1 tablespoon pickle relish (or finely chopped pickles)\n",
       "    *   Salt and pepper to taste\n",
       "*   **For the Tangy Sauce:**\n",
       "    *   2 tablespoons soy sauce\n",
       "    *   1 tablespoon rice vinegar\n",
       "    *   1 tablespoon sugar\n",
       "\n",
       "**Instructions:**\n",
       "\n",
       "1. **Prepare the Chicken:**\n",
       "\t* Season the chicken breasts with salt and pepper.\n",
       "\t* Beat the egg in a shallow dish. Place flour on a separate plate.\n",
       "\t* Coat each chicken breast in the beaten egg, then press it into the flour until evenly coated.\n",
       "\t* Heat about 1 inch of vegetable oil in a large skillet over medium heat until it reaches 350°F (175°C).\n",
       "\t* Carefully place the coated chicken breasts in the hot oil. Fry for about 5-7 minutes on each side or until golden brown and cooked through.\n",
       "\t* Remove the chicken from the oil and drain on paper towels.\n",
       "2. **Make the Tartar Sauce:**\n",
       "\t* In a small bowl, combine the chopped hard-boiled egg, mayonnaise, Dijon mustard, and pickle relish. Mix well.\n",
       "\t* Season with salt and pepper to taste.\n",
       "3. **Make the Tangy Sauce:**\n",
       "\t* In a small saucepan, combine soy sauce, rice vinegar, and sugar.\n",
       "\t* Bring the mixture to a boil over medium heat. Once boiling, reduce heat to low and let it simmer for about 2-3 minutes until the sauce thickens slightly.\n",
       "\t* Remove from heat and let it cool slightly.\n",
       "4. **Assemble the Chicken Nanban:**\n",
       "\t* Slice the fried chicken into bite-sized pieces.\n",
       "\t* In a large bowl, combine the sliced chicken and tangy sauce. Toss to coat evenly.\n",
       "\t* Transfer the coated chicken to a serving plate and dollop with tartar sauce.\n",
       "\n",
       "Enjoy your homemade Chicken Nanban! You can serve it with steamed rice or noodles.\""
      ],
      "text/plain": [
       "<IPython.core.display.Markdown object>"
      ]
     },
     "execution_count": 17,
     "metadata": {},
     "output_type": "execute_result"
    }
   ],
   "source": [
    "query = \"wow! number 2. Chicken Nanban (Japanese Fried Chicken with Tartar Sauce)  sound cool!, can you teach me how to cook that?\"\n",
    "result = conversation_chain.invoke({\"question\": query})\n",
    "Markdown(result[\"answer\"])"
   ]
  },
  {
   "cell_type": "code",
   "execution_count": 20,
   "id": "a7630ae2-5baf-4c7a-8612-bfb1998788f1",
   "metadata": {},
   "outputs": [
    {
     "data": {
      "text/markdown": [
       "Here is the video link for Champ Ryosuke's Crispy & Juicy Chicken Teriyaki: <https://youtu.be/A4yY7rkzATI?si=vzJSWmuGeoD7-FEm>"
      ],
      "text/plain": [
       "<IPython.core.display.Markdown object>"
      ]
     },
     "execution_count": 20,
     "metadata": {},
     "output_type": "execute_result"
    }
   ],
   "source": [
    "query = \"can i have the video link to that?\"\n",
    "result = conversation_chain.invoke({\"question\": query})\n",
    "Markdown(result[\"answer\"])"
   ]
  },
  {
   "cell_type": "code",
   "execution_count": 34,
   "id": "08195b58-2c2f-4407-b072-d09abf075809",
   "metadata": {},
   "outputs": [],
   "source": [
    "retriever = db.as_retriever(search_kwargs={\"k\": 25})\n",
    "memory = ConversationBufferMemory(memory_key='chat_history',return_messages=True)\n",
    "conversation_chain = ConversationalRetrievalChain.from_llm(llm=llm,\n",
    "                          retriever=retriever,\n",
    "                          memory=memory)"
   ]
  },
  {
   "cell_type": "code",
   "execution_count": 36,
   "id": "79d39572-9df8-405d-90e9-217cffbbe8e0",
   "metadata": {
    "scrolled": true
   },
   "outputs": [
    {
     "data": {
      "text/markdown": [
       "For a quick and satisfying lunch option, consider trying the **Bulgogi Meal Prep** recipe. This Korean-style dish features marinated beef, vegetables, and a delicious gochujang sauce. It's easy to prepare in bulk and can be enjoyed throughout the week. Here's a simplified version of the recipe:\n",
       "\n",
       "**Ingredients:**\n",
       "\n",
       "*   1 lb beef (thinly sliced, fatty brisket or chuck)\n",
       "*   3 tbsp soy sauce\n",
       "*   2 tbsp gochujang paste (adjust to taste)\n",
       "*   1 tbsp honey\n",
       "*   1 tbsp sesame oil\n",
       "*   2 cloves garlic, minced\n",
       "*   1 tbsp grated ginger\n",
       "*   1 small onion, thinly sliced\n",
       "*   2 cups cooked rice\n",
       "*   Green onions and toasted sesame seeds for garnish\n",
       "\n",
       "**Instructions:**\n",
       "\n",
       "1.  In a bowl, combine soy sauce, gochujang paste, honey, sesame oil, garlic, and ginger. Mix well.\n",
       "2.  Add the beef to the marinade and mix until evenly coated. Cover and refrigerate for at least 30 minutes or overnight.\n",
       "3.  Heat a large skillet over medium-high heat. Add the marinated beef and cook until browned, about 5-7 minutes.\n",
       "4.  Add the sliced onion to the skillet and cook until softened, about 3-5 minutes.\n",
       "5.  Divide the cooked rice into meal prep containers.\n",
       "6.  Top each container with the beef and onion mixture.\n",
       "7.  Garnish with green onions and toasted sesame seeds before serving.\n",
       "\n",
       "Enjoy your delicious Bulgogi Meal Prep for lunch!"
      ],
      "text/plain": [
       "<IPython.core.display.Markdown object>"
      ]
     },
     "execution_count": 36,
     "metadata": {},
     "output_type": "execute_result"
    }
   ],
   "source": [
    "query = \"what suggest something to cook for lunch?\"\n",
    "result = conversation_chain.invoke({\"question\": query})\n",
    "Markdown(result[\"answer\"])"
   ]
  },
  {
   "cell_type": "code",
   "execution_count": 38,
   "id": "da679579-7276-46a7-a390-ef6d3475b4b5",
   "metadata": {
    "scrolled": true
   },
   "outputs": [
    {
     "data": {
      "text/markdown": [
       "\"I'd love to! How about we make Omurice together? It's a delicious Japanese comfort food featuring fried rice wrapped in an omelet and served with a rich, creamy sauce.\""
      ],
      "text/plain": [
       "<IPython.core.display.Markdown object>"
      ]
     },
     "execution_count": 38,
     "metadata": {},
     "output_type": "execute_result"
    }
   ],
   "source": [
    "query = \"how about a something Asian inspired instead?\"\n",
    "result = conversation_chain.invoke({\"question\": query})\n",
    "Markdown(result[\"answer\"])"
   ]
  },
  {
   "cell_type": "code",
   "execution_count": 40,
   "id": "907520bb-ae27-4215-829f-cddd52d72702",
   "metadata": {
    "scrolled": true
   },
   "outputs": [
    {
     "data": {
      "text/markdown": [
       "\"Sure, how about trying a recipe for Gyoza (Japanese Dumplings)? Here's a simple one:\n",
       "\n",
       "**Gyoza Recipe**\n",
       "\n",
       "Ingredients:\n",
       "- 1 lb ground pork\n",
       "- 1 cup chopped cabbage\n",
       "- 3 green onions, finely chopped\n",
       "- 2 cloves garlic, minced\n",
       "- 1 tbsp grated ginger\n",
       "- 1 tsp soy sauce\n",
       "- 1 tsp sesame oil\n",
       "- Salt and pepper to taste\n",
       "- 20-25 gyoza wrappers\n",
       "\n",
       "Instructions:\n",
       "1. In a bowl, combine ground pork, cabbage, green onions, garlic, ginger, soy sauce, sesame oil, salt, and pepper. Mix well.\n",
       "2. Place a small amount of filling in the center of each gyoza wrapper. Wet the edges with water, then fold and pleat the wrappers to seal.\n",
       "3. Heat a large skillet over medium heat. Add a little oil and place the gyoza in the pan, pleated side up.\n",
       "4. Cook for 2-3 minutes until the bottoms are golden brown.\n",
       "5. Add about 1/4 cup of water to the pan, cover, and cook for another 5-7 minutes until the filling is cooked through.\n",
       "6. Remove from heat and serve with your favorite dipping sauce.\n",
       "\n",
       "Enjoy your homemade Gyoza!\""
      ],
      "text/plain": [
       "<IPython.core.display.Markdown object>"
      ]
     },
     "execution_count": 40,
     "metadata": {},
     "output_type": "execute_result"
    }
   ],
   "source": [
    "query = \"how about something else that is asian inspired and not Omurice?\"\n",
    "result = conversation_chain.invoke({\"question\": query})\n",
    "Markdown(result[\"answer\"])"
   ]
  },
  {
   "cell_type": "code",
   "execution_count": 42,
   "id": "bf079f9c-d396-423a-9b1f-5b126cb3343e",
   "metadata": {},
   "outputs": [
    {
     "data": {
      "text/markdown": [
       "\"Sure, here's a link to a video by Champ's Japanese Kitchen that guides you through making delicious Gyoza (Japanese dumplings) at home: https://youtu.be/Fejas73CUiY\""
      ],
      "text/plain": [
       "<IPython.core.display.Markdown object>"
      ]
     },
     "execution_count": 42,
     "metadata": {},
     "output_type": "execute_result"
    }
   ],
   "source": [
    "query = \"show me the video link\"\n",
    "result = conversation_chain.invoke({\"question\": query})\n",
    "Markdown(result[\"answer\"])"
   ]
  },
  {
   "cell_type": "code",
   "execution_count": null,
   "id": "521cf75e-f914-4284-8a63-0a631a9c09ca",
   "metadata": {},
   "outputs": [],
   "source": []
  }
 ],
 "metadata": {
  "kernelspec": {
   "display_name": "Python [conda env:base] *",
   "language": "python",
   "name": "conda-base-py"
  },
  "language_info": {
   "codemirror_mode": {
    "name": "ipython",
    "version": 3
   },
   "file_extension": ".py",
   "mimetype": "text/x-python",
   "name": "python",
   "nbconvert_exporter": "python",
   "pygments_lexer": "ipython3",
   "version": "3.11.7"
  }
 },
 "nbformat": 4,
 "nbformat_minor": 5
}
